{
 "cells": [
  {
   "cell_type": "code",
   "execution_count": 165,
   "id": "8c252362",
   "metadata": {},
   "outputs": [],
   "source": [
    "# Opening the text file.\n",
    "\n",
    "input_file = open(\"Input_file.txt\", \"r\")"
   ]
  },
  {
   "cell_type": "code",
   "execution_count": 166,
   "id": "f1626af1",
   "metadata": {},
   "outputs": [],
   "source": [
    "# Function to get the a dictionary of heuristic values of all the nodes. \n",
    "\n",
    "def heuristic(input_file):\n",
    "\n",
    "    heuristic = {}\n",
    "\n",
    "    for i in input_file:\n",
    "        #print(i)\n",
    "        each_line = i.strip().split()\n",
    "        #print(each_line)\n",
    "        heuristic[each_line[0]] = int(each_line[1])\n",
    "\n",
    "    return heuristic"
   ]
  },
  {
   "cell_type": "code",
   "execution_count": 167,
   "id": "ab9ccb6a",
   "metadata": {},
   "outputs": [],
   "source": [
    "heuristic = heuristic(input_file)\n",
    "#print(heuristic)"
   ]
  },
  {
   "cell_type": "code",
   "execution_count": 168,
   "id": "e9bb324f",
   "metadata": {},
   "outputs": [],
   "source": [
    "# heuristic = {'Arad': 366, 'Craiova': 160, 'Eforie': 161, 'Fagaras': 176, 'Giurgiu': 77, 'Mehadia': 241, 'Neamt': 234, 'Sibiu': 253, 'Oradea': 380, 'Pitesti': 100, 'RimnicuVilcea': 193, 'Dobreta': 242, 'Hirsova': 151, 'lasi': 226, 'Lugoj': 244, 'Timisoara': 329, 'Urziceni': 80, 'Vaslui': 199, 'Zerind': 374, 'Bucharest': 0}"
   ]
  },
  {
   "cell_type": "code",
   "execution_count": 169,
   "id": "485c4119",
   "metadata": {},
   "outputs": [],
   "source": [
    "# Function to get an adjacency list of graph.\n",
    "input_file = open(\"Input_file.txt\", \"r\")\n",
    "\n",
    "adj_graph = {}\n",
    "sub_adj_graph = {}\n",
    "\n",
    "for i in input_file:\n",
    "\n",
    "    #print(i)\n",
    "    each_line = i.strip().split()\n",
    "    #print(each_line)\n",
    "    length_of_a_line = len(each_line)\n",
    "    #print(length_of_a_line)\n",
    "\n",
    "    # Creating sub_adj_graph \n",
    "    for index in range(2, length_of_a_line, 2):\n",
    "        sub_adj_graph[each_line[index]] = int(each_line[index+1])\n",
    "\n",
    "    #print(sub_adj_graph)\n",
    "\n",
    "    adj_graph[each_line[0]] = sub_adj_graph\n",
    "    sub_adj_graph = {}\n",
    "    "
   ]
  },
  {
   "cell_type": "code",
   "execution_count": 170,
   "id": "1b8d884c",
   "metadata": {},
   "outputs": [],
   "source": [
    "#print(adj_graph)"
   ]
  },
  {
   "cell_type": "code",
   "execution_count": 171,
   "id": "7f7f4734",
   "metadata": {},
   "outputs": [],
   "source": [
    "# adj_graph = {'Arad': {'Zerind': 75, 'Timisoara': 118, 'Sibiu': 140}, 'Craiova': {'Dobreta': 120, 'RimnicuVilcea': 146, 'Pitesti': 138}, 'Eforie': {'Hirsova': 86}, 'Fagaras': {'Sibiu': 99, 'Bucharest': 211}, 'Giurgiu': {'Bucharest': 90}, 'Mehadia': {'Lugoj': 70, 'Dobreta': 75}, 'Neamt': {'lasi': 87}, 'Sibiu': {'Oradea': 151, 'Arad': 140, 'RimnicuVilcea': 80, 'Fagaras': 99}, 'Oradea': {'Zerind': 71, 'Sibiu': 151}, 'Pitesti': {'RimnicuVilcea': 97, 'Craiova': 138, 'Bucharest': 101}, 'RimnicuVilcea': {'Sibiu': 80, 'Craiova': 146, 'Pitesti': 97}, 'Dobreta': {'Mehadia': 75, 'Craiova': 120}, 'Hirsova': {'Urziceni': 98, 'Eforie': 86}, 'lasi': {'Vaslui': 92, 'Neamt': 87}, 'Lugoj': {'Timisoara': 111, 'Mehadia': 70}, 'Timisoara': {'Arad': 118, 'Lugoj': 111}, 'Urziceni': {'Bucharest': 85, 'Hirsova': 98, 'Vaslui': 142}, 'Vaslui': {'Urziceni': 142, 'lasi': 92}, 'Zerind': {'Oradea': 71, 'Arad': 75}, 'Bucharest': {'Fagaras': 211, 'Pitesti': 101, 'Giurgiu': 90, 'Urziceni': 85}}"
   ]
  },
  {
   "cell_type": "code",
   "execution_count": 172,
   "id": "b5bf87de",
   "metadata": {},
   "outputs": [],
   "source": [
    "# A start algorithm\n",
    "\n",
    "import heapq\n",
    "\n",
    "def astar(start, goal, adj_graph, heuristic):\n",
    "    frontier = []\n",
    "    heapq.heappush(frontier, (0, start))\n",
    "    parent = {}\n",
    "    cost = {}\n",
    "    parent[start] = None\n",
    "    cost[start] = 0\n",
    "    \n",
    "\n",
    "    while frontier:\n",
    "        current = heapq.heappop(frontier)[1]\n",
    "\n",
    "        if current == goal:\n",
    "            break\n",
    "\n",
    "        for child in adj_graph[current]:\n",
    "            new_cost = cost[current] + adj_graph[current][child]    # g(n)\n",
    "            if child not in cost or new_cost < cost[child]:\n",
    "                cost[child] = new_cost\n",
    "                priority = new_cost + heuristic[child]     # f(n)\n",
    "                heapq.heappush(frontier, (priority, child))\n",
    "                parent[child] = current\n",
    "                \n",
    "    return parent, cost"
   ]
  },
  {
   "cell_type": "code",
   "execution_count": 173,
   "id": "5b26013a",
   "metadata": {},
   "outputs": [],
   "source": [
    "# function to generate the required output asked by the question\n",
    "\n",
    "def output(parent, cost):\n",
    "    path = []\n",
    "    path.append(goal)\n",
    "    i = goal\n",
    "\n",
    "    while i != start:\n",
    "        i = parent[i]\n",
    "        path.append(i)\n",
    "\n",
    "    path.reverse()\n",
    "    #print(path)\n",
    "\n",
    "    if len(path) == 0:\n",
    "        print(\"NO PATH FOUND!\")\n",
    "    else:\n",
    "        print(\"Path: \", end = '')\n",
    "        for i in path:\n",
    "            print(i, end = '')\n",
    "            print(\" --> \", end = '')\n",
    "\n",
    "        print()   \n",
    "        print(\"Total distance: \", end = '')\n",
    "        print(cost[goal], \"km\")\n"
   ]
  },
  {
   "cell_type": "code",
   "execution_count": 174,
   "id": "ecd31b6a",
   "metadata": {},
   "outputs": [
    {
     "name": "stdout",
     "output_type": "stream",
     "text": [
      "Enter the start node: Arad\n",
      "Enter the goal node: Bucharest\n",
      "Path: Arad --> Sibiu --> RimnicuVilcea --> Pitesti --> Bucharest --> \n",
      "Total distance: 418 km\n"
     ]
    }
   ],
   "source": [
    "start = input(\"Enter the start node: \")\n",
    "goal = input(\"Enter the goal node: \")\n",
    "\n",
    "if start and goal not in heuristic:\n",
    "    print(\"Start or goal does not exist. Or, there might be a name error.\")\n",
    "else:\n",
    "    parent, cost = astar(start, goal, adj_graph, heuristic)\n",
    "#     print(parent)\n",
    "#     print()\n",
    "#     print(cost)\n",
    "    output(parent, cost)"
   ]
  },
  {
   "cell_type": "code",
   "execution_count": null,
   "id": "15659a95",
   "metadata": {},
   "outputs": [],
   "source": []
  }
 ],
 "metadata": {
  "kernelspec": {
   "display_name": "Python 3 (ipykernel)",
   "language": "python",
   "name": "python3"
  },
  "language_info": {
   "codemirror_mode": {
    "name": "ipython",
    "version": 3
   },
   "file_extension": ".py",
   "mimetype": "text/x-python",
   "name": "python",
   "nbconvert_exporter": "python",
   "pygments_lexer": "ipython3",
   "version": "3.11.3"
  }
 },
 "nbformat": 4,
 "nbformat_minor": 5
}
